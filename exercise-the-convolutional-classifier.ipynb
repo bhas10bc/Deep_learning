{
 "cells": [
  {
   "cell_type": "markdown",
   "id": "2b319268",
   "metadata": {
    "papermill": {
     "duration": 0.006213,
     "end_time": "2023-10-25T08:34:42.159490",
     "exception": false,
     "start_time": "2023-10-25T08:34:42.153277",
     "status": "completed"
    },
    "tags": []
   },
   "source": [
    "**This notebook is an exercise in the [Computer Vision](https://www.kaggle.com/learn/computer-vision) course.  You can reference the tutorial at [this link](https://www.kaggle.com/ryanholbrook/the-convolutional-classifier).**\n",
    "\n",
    "---\n"
   ]
  },
  {
   "cell_type": "markdown",
   "id": "ab0d53e8",
   "metadata": {
    "papermill": {
     "duration": 0.00525,
     "end_time": "2023-10-25T08:34:42.170531",
     "exception": false,
     "start_time": "2023-10-25T08:34:42.165281",
     "status": "completed"
    },
    "tags": []
   },
   "source": [
    "<blockquote style=\"margin-right:auto; margin-left:auto; background-color: #ebf9ff; padding: 1em; margin:24px;\">\n",
    "    <strong>Accelerate Training with a Kaggle GPU!</strong><br>\n",
    "Did you know Kaggle offers free time with a GPU accelerator? You can speed up training neural networks in this course by switching to <strong>GPU</strong> in the <em>Accelerator</em> option on the right. (It may already be turned on.) Two things to be aware of:\n",
    "<ul>\n",
    "<li>Changing the <em>Accelerator</em> option will cause the notebook session to restart. You'll need to rerun any setup code.\n",
    "<li>You can have only one GPU session at a time, so be sure to shut the notebook down after you've finished the exercise.\n",
    "</ul>\n",
    "</blockquote>"
   ]
  },
  {
   "cell_type": "markdown",
   "id": "bfe5903b",
   "metadata": {
    "papermill": {
     "duration": 0.005392,
     "end_time": "2023-10-25T08:34:42.181465",
     "exception": false,
     "start_time": "2023-10-25T08:34:42.176073",
     "status": "completed"
    },
    "tags": []
   },
   "source": [
    "# Introduction #\n",
    "\n",
    "In the tutorial, we saw how to build an image classifier by attaching a head of dense layers to a pretrained base. The base we used was from a model called **VGG16**. We saw that the VGG16 architecture was prone to overfitting this dataset. Over this course, you'll learn a number of ways you can improve upon this initial attempt.\n",
    "\n",
    "The first way you'll see is to use a base more appropriate to the dataset. The base this model comes from is called **InceptionV1** (also known as GoogLeNet). InceptionV1 was one of the early winners of the ImageNet competition. One of its successors, InceptionV4, is among the state of the art today.\n",
    "\n",
    "To get started, run the code cell below to set everything up."
   ]
  },
  {
   "cell_type": "code",
   "execution_count": 1,
   "id": "82034862",
   "metadata": {
    "execution": {
     "iopub.execute_input": "2023-10-25T08:34:42.194602Z",
     "iopub.status.busy": "2023-10-25T08:34:42.193756Z",
     "iopub.status.idle": "2023-10-25T08:35:01.169061Z",
     "shell.execute_reply": "2023-10-25T08:35:01.168235Z"
    },
    "lines_to_next_cell": 2,
    "papermill": {
     "duration": 18.984594,
     "end_time": "2023-10-25T08:35:01.171513",
     "exception": false,
     "start_time": "2023-10-25T08:34:42.186919",
     "status": "completed"
    },
    "tags": []
   },
   "outputs": [
    {
     "name": "stderr",
     "output_type": "stream",
     "text": [
      "/opt/conda/lib/python3.10/site-packages/scipy/__init__.py:146: UserWarning: A NumPy version >=1.16.5 and <1.23.0 is required for this version of SciPy (detected version 1.23.5\n",
      "  warnings.warn(f\"A NumPy version >={np_minversion} and <{np_maxversion}\"\n"
     ]
    },
    {
     "name": "stdout",
     "output_type": "stream",
     "text": [
      "Found 5117 files belonging to 2 classes.\n",
      "Found 5051 files belonging to 2 classes.\n"
     ]
    }
   ],
   "source": [
    "# Setup feedback system\n",
    "from learntools.core import binder\n",
    "binder.bind(globals())\n",
    "from learntools.computer_vision.ex1 import *\n",
    "\n",
    "# Imports\n",
    "import os, warnings\n",
    "import matplotlib.pyplot as plt\n",
    "from matplotlib import gridspec\n",
    "\n",
    "import numpy as np\n",
    "import tensorflow as tf\n",
    "from tensorflow.keras.preprocessing import image_dataset_from_directory\n",
    "\n",
    "# Reproducability\n",
    "def set_seed(seed=31415):\n",
    "    np.random.seed(seed)\n",
    "    tf.random.set_seed(seed)\n",
    "    os.environ['PYTHONHASHSEED'] = str(seed)\n",
    "    os.environ['TF_DETERMINISTIC_OPS'] = '1'\n",
    "set_seed()\n",
    "\n",
    "# Set Matplotlib defaults\n",
    "plt.rc('figure', autolayout=True)\n",
    "plt.rc('axes', labelweight='bold', labelsize='large',\n",
    "       titleweight='bold', titlesize=18, titlepad=10)\n",
    "plt.rc('image', cmap='magma')\n",
    "warnings.filterwarnings(\"ignore\") # to clean up output cells\n",
    "\n",
    "\n",
    "# Load training and validation sets\n",
    "ds_train_ = image_dataset_from_directory(\n",
    "    '../input/car-or-truck/train',\n",
    "    labels='inferred',\n",
    "    label_mode='binary',\n",
    "    image_size=[128, 128],\n",
    "    interpolation='nearest',\n",
    "    batch_size=64,\n",
    "    shuffle=True,\n",
    ")\n",
    "ds_valid_ = image_dataset_from_directory(\n",
    "    '../input/car-or-truck/valid',\n",
    "    labels='inferred',\n",
    "    label_mode='binary',\n",
    "    image_size=[128, 128],\n",
    "    interpolation='nearest',\n",
    "    batch_size=64,\n",
    "    shuffle=False,\n",
    ")\n",
    "\n",
    "# Data Pipeline\n",
    "def convert_to_float(image, label):\n",
    "    image = tf.image.convert_image_dtype(image, dtype=tf.float32)\n",
    "    return image, label\n",
    "\n",
    "AUTOTUNE = tf.data.experimental.AUTOTUNE\n",
    "ds_train = (\n",
    "    ds_train_\n",
    "    .map(convert_to_float)\n",
    "    .cache()\n",
    "    .prefetch(buffer_size=AUTOTUNE)\n",
    ")\n",
    "ds_valid = (\n",
    "    ds_valid_\n",
    "    .map(convert_to_float)\n",
    "    .cache()\n",
    "    .prefetch(buffer_size=AUTOTUNE)\n",
    ")\n"
   ]
  },
  {
   "cell_type": "markdown",
   "id": "1df13197",
   "metadata": {
    "papermill": {
     "duration": 0.005754,
     "end_time": "2023-10-25T08:35:01.183382",
     "exception": false,
     "start_time": "2023-10-25T08:35:01.177628",
     "status": "completed"
    },
    "tags": []
   },
   "source": [
    "The **InceptionV1** model pretrained on ImageNet is available in the [TensorFlow Hub](https://www.tensorflow.org/hub/) repository, but we'll load it from a local copy. Run this cell to load InceptionV1 for your base."
   ]
  },
  {
   "cell_type": "code",
   "execution_count": 2,
   "id": "b36780fb",
   "metadata": {
    "execution": {
     "iopub.execute_input": "2023-10-25T08:35:01.196336Z",
     "iopub.status.busy": "2023-10-25T08:35:01.196000Z",
     "iopub.status.idle": "2023-10-25T08:35:05.121218Z",
     "shell.execute_reply": "2023-10-25T08:35:05.120281Z"
    },
    "lines_to_next_cell": 0,
    "papermill": {
     "duration": 3.934894,
     "end_time": "2023-10-25T08:35:05.124210",
     "exception": false,
     "start_time": "2023-10-25T08:35:01.189316",
     "status": "completed"
    },
    "tags": []
   },
   "outputs": [],
   "source": [
    "import tensorflow_hub as hub\n",
    "\n",
    "pretrained_base = tf.keras.models.load_model(\n",
    "    '../input/cv-course-models/cv-course-models/inceptionv1'\n",
    ")"
   ]
  },
  {
   "cell_type": "markdown",
   "id": "74fe2372",
   "metadata": {
    "papermill": {
     "duration": 0.005865,
     "end_time": "2023-10-25T08:35:05.138110",
     "exception": false,
     "start_time": "2023-10-25T08:35:05.132245",
     "status": "completed"
    },
    "tags": []
   },
   "source": [
    "# 1) Define Pretrained Base #\n",
    "\n",
    "Now that you have a pretrained base to do our feature extraction, decide whether this base should be trainable or not."
   ]
  },
  {
   "cell_type": "code",
   "execution_count": 3,
   "id": "92ed6583",
   "metadata": {
    "execution": {
     "iopub.execute_input": "2023-10-25T08:35:05.151433Z",
     "iopub.status.busy": "2023-10-25T08:35:05.150826Z",
     "iopub.status.idle": "2023-10-25T08:35:05.159930Z",
     "shell.execute_reply": "2023-10-25T08:35:05.159001Z"
    },
    "lines_to_next_cell": 0,
    "papermill": {
     "duration": 0.018014,
     "end_time": "2023-10-25T08:35:05.161896",
     "exception": false,
     "start_time": "2023-10-25T08:35:05.143882",
     "status": "completed"
    },
    "tags": []
   },
   "outputs": [
    {
     "data": {
      "application/javascript": [
       "parent.postMessage({\"jupyterEvent\": \"custom.exercise_interaction\", \"data\": {\"outcomeType\": 1, \"valueTowardsCompletion\": 0.25, \"interactionType\": 1, \"questionType\": 2, \"questionId\": \"1_Q1\", \"learnToolsVersion\": \"0.3.4\", \"failureMessage\": \"\", \"exceptionClass\": \"\", \"trace\": \"\"}}, \"*\")"
      ],
      "text/plain": [
       "<IPython.core.display.Javascript object>"
      ]
     },
     "metadata": {},
     "output_type": "display_data"
    },
    {
     "data": {
      "text/markdown": [
       "<span style=\"color:#33cc33\">Correct:</span> When doing transfer learning, it's generally not a good idea to retrain the entire base -- at least not without some care. The reason is that the random weights in the head will initially create large gradient updates, which propogate back into the base layers and destroy much of the pretraining. Using techniques known as **fine tuning** it's possible to further train the base on new data, but this requires some care to do well."
      ],
      "text/plain": [
       "Correct: When doing transfer learning, it's generally not a good idea to retrain the entire base -- at least not without some care. The reason is that the random weights in the head will initially create large gradient updates, which propogate back into the base layers and destroy much of the pretraining. Using techniques known as **fine tuning** it's possible to further train the base on new data, but this requires some care to do well."
      ]
     },
     "metadata": {},
     "output_type": "display_data"
    }
   ],
   "source": [
    "# YOUR_CODE_HERE\n",
    "pretrained_base.trainable = False\n",
    "\n",
    "# Check your answer\n",
    "q_1.check()"
   ]
  },
  {
   "cell_type": "code",
   "execution_count": 4,
   "id": "62cbb0ba",
   "metadata": {
    "execution": {
     "iopub.execute_input": "2023-10-25T08:35:05.175377Z",
     "iopub.status.busy": "2023-10-25T08:35:05.175102Z",
     "iopub.status.idle": "2023-10-25T08:35:05.182536Z",
     "shell.execute_reply": "2023-10-25T08:35:05.181678Z"
    },
    "papermill": {
     "duration": 0.016334,
     "end_time": "2023-10-25T08:35:05.184419",
     "exception": false,
     "start_time": "2023-10-25T08:35:05.168085",
     "status": "completed"
    },
    "tags": []
   },
   "outputs": [
    {
     "data": {
      "application/javascript": [
       "parent.postMessage({\"jupyterEvent\": \"custom.exercise_interaction\", \"data\": {\"interactionType\": 3, \"questionType\": 2, \"questionId\": \"1_Q1\", \"learnToolsVersion\": \"0.3.4\", \"valueTowardsCompletion\": 0.0, \"failureMessage\": \"\", \"exceptionClass\": \"\", \"trace\": \"\", \"outcomeType\": 4}}, \"*\")"
      ],
      "text/plain": [
       "<IPython.core.display.Javascript object>"
      ]
     },
     "metadata": {},
     "output_type": "display_data"
    },
    {
     "data": {
      "text/markdown": [
       "<span style=\"color:#33cc99\">Solution:</span> \n",
       "```python\n",
       "pretrained_base.trainable = False\n",
       "```"
      ],
      "text/plain": [
       "Solution: \n",
       "```python\n",
       "pretrained_base.trainable = False\n",
       "```"
      ]
     },
     "metadata": {},
     "output_type": "display_data"
    }
   ],
   "source": [
    "# Lines below will give you a hint or solution code\n",
    "#q_1.hint()\n",
    "q_1.solution()"
   ]
  },
  {
   "cell_type": "markdown",
   "id": "dc97da76",
   "metadata": {
    "papermill": {
     "duration": 0.006111,
     "end_time": "2023-10-25T08:35:05.196808",
     "exception": false,
     "start_time": "2023-10-25T08:35:05.190697",
     "status": "completed"
    },
    "tags": []
   },
   "source": [
    "# 2) Attach Head #\n",
    "\n",
    "Now that the base is defined to do the feature extraction, create a head of `Dense` layers to perform the classification, following this diagram:\n",
    "\n",
    "<figure>\n",
    "<img src=\"https://storage.googleapis.com/kaggle-media/learn/images/i5VU7Ry.png\" alt=\"Diagram of the dense head.\">\n",
    "</figure>\n"
   ]
  },
  {
   "cell_type": "code",
   "execution_count": 5,
   "id": "f4a4b494",
   "metadata": {
    "execution": {
     "iopub.execute_input": "2023-10-25T08:35:05.210774Z",
     "iopub.status.busy": "2023-10-25T08:35:05.210118Z",
     "iopub.status.idle": "2023-10-25T08:35:05.230465Z",
     "shell.execute_reply": "2023-10-25T08:35:05.229464Z"
    },
    "lines_to_next_cell": 0,
    "papermill": {
     "duration": 0.029608,
     "end_time": "2023-10-25T08:35:05.232538",
     "exception": false,
     "start_time": "2023-10-25T08:35:05.202930",
     "status": "completed"
    },
    "tags": []
   },
   "outputs": [
    {
     "data": {
      "application/javascript": [
       "parent.postMessage({\"jupyterEvent\": \"custom.exercise_interaction\", \"data\": {\"outcomeType\": 1, \"valueTowardsCompletion\": 0.25, \"interactionType\": 1, \"questionType\": 2, \"questionId\": \"2_Q2\", \"learnToolsVersion\": \"0.3.4\", \"failureMessage\": \"\", \"exceptionClass\": \"\", \"trace\": \"\"}}, \"*\")"
      ],
      "text/plain": [
       "<IPython.core.display.Javascript object>"
      ]
     },
     "metadata": {},
     "output_type": "display_data"
    },
    {
     "data": {
      "text/markdown": [
       "<span style=\"color:#33cc33\">Correct</span>"
      ],
      "text/plain": [
       "Correct"
      ]
     },
     "metadata": {},
     "output_type": "display_data"
    }
   ],
   "source": [
    "from tensorflow import keras\n",
    "from tensorflow.keras import layers\n",
    "\n",
    "model = keras.Sequential([\n",
    "    pretrained_base,\n",
    "    layers.Flatten(),\n",
    "    layers.Dense(6, activation='relu'),  # Example Dense layer\n",
    "    layers.Dense(1, activation='sigmoid')\n",
    "])\n",
    "\n",
    "# Check your answer\n",
    "q_2.check()"
   ]
  },
  {
   "cell_type": "code",
   "execution_count": 6,
   "id": "1f4fe4a7",
   "metadata": {
    "execution": {
     "iopub.execute_input": "2023-10-25T08:35:05.247228Z",
     "iopub.status.busy": "2023-10-25T08:35:05.246950Z",
     "iopub.status.idle": "2023-10-25T08:35:05.250525Z",
     "shell.execute_reply": "2023-10-25T08:35:05.249690Z"
    },
    "papermill": {
     "duration": 0.01304,
     "end_time": "2023-10-25T08:35:05.252433",
     "exception": false,
     "start_time": "2023-10-25T08:35:05.239393",
     "status": "completed"
    },
    "tags": []
   },
   "outputs": [],
   "source": [
    "# Lines below will give you a hint or solution code\n",
    "#q_2.hint()\n",
    "#q_2.solution()"
   ]
  },
  {
   "cell_type": "markdown",
   "id": "8a5eacbf",
   "metadata": {
    "papermill": {
     "duration": 0.006299,
     "end_time": "2023-10-25T08:35:05.265484",
     "exception": false,
     "start_time": "2023-10-25T08:35:05.259185",
     "status": "completed"
    },
    "tags": []
   },
   "source": [
    "# 3) Train #\n",
    "\n",
    "Before training a model in Keras, you need to specify an *optimizer* to perform the gradient descent, a *loss function* to be minimized, and (optionally) any *performance metrics*. The optimization algorithm we'll use for this course is called [\"Adam\"](https://keras.io/api/optimizers/adam/), which generally performs well regardless of what kind of problem you're trying to solve.\n",
    "\n",
    "The loss and the metrics, however, need to match the kind of problem you're trying to solve. Our problem is a **binary classification** problem: `Car` coded as 0, and `Truck` coded as 1. Choose an appropriate loss and an appropriate accuracy metric for binary classification."
   ]
  },
  {
   "cell_type": "code",
   "execution_count": 7,
   "id": "1e998363",
   "metadata": {
    "execution": {
     "iopub.execute_input": "2023-10-25T08:35:05.280391Z",
     "iopub.status.busy": "2023-10-25T08:35:05.280083Z",
     "iopub.status.idle": "2023-10-25T08:35:05.306975Z",
     "shell.execute_reply": "2023-10-25T08:35:05.306019Z"
    },
    "lines_to_next_cell": 0,
    "papermill": {
     "duration": 0.036661,
     "end_time": "2023-10-25T08:35:05.309033",
     "exception": false,
     "start_time": "2023-10-25T08:35:05.272372",
     "status": "completed"
    },
    "tags": []
   },
   "outputs": [
    {
     "data": {
      "application/javascript": [
       "parent.postMessage({\"jupyterEvent\": \"custom.exercise_interaction\", \"data\": {\"outcomeType\": 1, \"valueTowardsCompletion\": 0.25, \"interactionType\": 1, \"questionType\": 2, \"questionId\": \"3_Q3\", \"learnToolsVersion\": \"0.3.4\", \"failureMessage\": \"\", \"exceptionClass\": \"\", \"trace\": \"\"}}, \"*\")"
      ],
      "text/plain": [
       "<IPython.core.display.Javascript object>"
      ]
     },
     "metadata": {},
     "output_type": "display_data"
    },
    {
     "data": {
      "text/markdown": [
       "<span style=\"color:#33cc33\">Correct</span>"
      ],
      "text/plain": [
       "Correct"
      ]
     },
     "metadata": {},
     "output_type": "display_data"
    }
   ],
   "source": [
    "# YOUR CODE HERE: what loss function should you use for a binary\n",
    "# classification problem? (Your answer for each should be a string.)\n",
    "optimizer = tf.keras.optimizers.Adam(epsilon=0.01)\n",
    "model.compile(\n",
    "    optimizer=optimizer,\n",
    "    loss = 'binary_crossentropy',\n",
    "    metrics=[\"binary_accuracy\"],\n",
    ")\n",
    "\n",
    "# Check your answer\n",
    "q_3.check()"
   ]
  },
  {
   "cell_type": "code",
   "execution_count": 8,
   "id": "0bccdfac",
   "metadata": {
    "execution": {
     "iopub.execute_input": "2023-10-25T08:35:05.325721Z",
     "iopub.status.busy": "2023-10-25T08:35:05.325417Z",
     "iopub.status.idle": "2023-10-25T08:35:05.329314Z",
     "shell.execute_reply": "2023-10-25T08:35:05.328510Z"
    },
    "lines_to_next_cell": 0,
    "papermill": {
     "duration": 0.014642,
     "end_time": "2023-10-25T08:35:05.331268",
     "exception": false,
     "start_time": "2023-10-25T08:35:05.316626",
     "status": "completed"
    },
    "tags": []
   },
   "outputs": [],
   "source": [
    "# Lines below will give you a hint or solution code\n",
    "#q_3.hint()\n",
    "#q_3.solution()"
   ]
  },
  {
   "cell_type": "code",
   "execution_count": 9,
   "id": "5c88955d",
   "metadata": {
    "execution": {
     "iopub.execute_input": "2023-10-25T08:35:05.347298Z",
     "iopub.status.busy": "2023-10-25T08:35:05.346779Z",
     "iopub.status.idle": "2023-10-25T08:37:10.255302Z",
     "shell.execute_reply": "2023-10-25T08:37:10.254354Z"
    },
    "papermill": {
     "duration": 124.918949,
     "end_time": "2023-10-25T08:37:10.257603",
     "exception": false,
     "start_time": "2023-10-25T08:35:05.338654",
     "status": "completed"
    },
    "tags": []
   },
   "outputs": [
    {
     "name": "stdout",
     "output_type": "stream",
     "text": [
      "Epoch 1/30\n",
      "80/80 [==============================] - 28s 202ms/step - loss: 0.5668 - binary_accuracy: 0.6992 - val_loss: 0.4387 - val_binary_accuracy: 0.8082\n",
      "Epoch 2/30\n",
      "80/80 [==============================] - 3s 42ms/step - loss: 0.4112 - binary_accuracy: 0.8157 - val_loss: 0.3999 - val_binary_accuracy: 0.8274\n",
      "Epoch 3/30\n",
      "80/80 [==============================] - 3s 42ms/step - loss: 0.3813 - binary_accuracy: 0.8306 - val_loss: 0.3857 - val_binary_accuracy: 0.8379\n",
      "Epoch 4/30\n",
      "80/80 [==============================] - 3s 42ms/step - loss: 0.3631 - binary_accuracy: 0.8405 - val_loss: 0.3765 - val_binary_accuracy: 0.8408\n",
      "Epoch 5/30\n",
      "80/80 [==============================] - 3s 42ms/step - loss: 0.3499 - binary_accuracy: 0.8483 - val_loss: 0.3708 - val_binary_accuracy: 0.8438\n",
      "Epoch 6/30\n",
      "80/80 [==============================] - 3s 42ms/step - loss: 0.3390 - binary_accuracy: 0.8552 - val_loss: 0.3659 - val_binary_accuracy: 0.8450\n",
      "Epoch 7/30\n",
      "80/80 [==============================] - 3s 42ms/step - loss: 0.3297 - binary_accuracy: 0.8609 - val_loss: 0.3620 - val_binary_accuracy: 0.8476\n",
      "Epoch 8/30\n",
      "80/80 [==============================] - 3s 42ms/step - loss: 0.3218 - binary_accuracy: 0.8661 - val_loss: 0.3590 - val_binary_accuracy: 0.8478\n",
      "Epoch 9/30\n",
      "80/80 [==============================] - 3s 42ms/step - loss: 0.3148 - binary_accuracy: 0.8681 - val_loss: 0.3558 - val_binary_accuracy: 0.8509\n",
      "Epoch 10/30\n",
      "80/80 [==============================] - 3s 42ms/step - loss: 0.3081 - binary_accuracy: 0.8716 - val_loss: 0.3536 - val_binary_accuracy: 0.8529\n",
      "Epoch 11/30\n",
      "80/80 [==============================] - 3s 42ms/step - loss: 0.3020 - binary_accuracy: 0.8743 - val_loss: 0.3518 - val_binary_accuracy: 0.8529\n",
      "Epoch 12/30\n",
      "80/80 [==============================] - 3s 42ms/step - loss: 0.2965 - binary_accuracy: 0.8753 - val_loss: 0.3507 - val_binary_accuracy: 0.8545\n",
      "Epoch 13/30\n",
      "80/80 [==============================] - 3s 42ms/step - loss: 0.2914 - binary_accuracy: 0.8786 - val_loss: 0.3487 - val_binary_accuracy: 0.8545\n",
      "Epoch 14/30\n",
      "80/80 [==============================] - 3s 42ms/step - loss: 0.2865 - binary_accuracy: 0.8825 - val_loss: 0.3477 - val_binary_accuracy: 0.8553\n",
      "Epoch 15/30\n",
      "80/80 [==============================] - 3s 42ms/step - loss: 0.2820 - binary_accuracy: 0.8841 - val_loss: 0.3465 - val_binary_accuracy: 0.8565\n",
      "Epoch 16/30\n",
      "80/80 [==============================] - 3s 42ms/step - loss: 0.2776 - binary_accuracy: 0.8874 - val_loss: 0.3448 - val_binary_accuracy: 0.8567\n",
      "Epoch 17/30\n",
      "80/80 [==============================] - 3s 42ms/step - loss: 0.2739 - binary_accuracy: 0.8888 - val_loss: 0.3436 - val_binary_accuracy: 0.8582\n",
      "Epoch 18/30\n",
      "80/80 [==============================] - 3s 42ms/step - loss: 0.2690 - binary_accuracy: 0.8911 - val_loss: 0.3436 - val_binary_accuracy: 0.8594\n",
      "Epoch 19/30\n",
      "80/80 [==============================] - 3s 42ms/step - loss: 0.2656 - binary_accuracy: 0.8927 - val_loss: 0.3443 - val_binary_accuracy: 0.8584\n",
      "Epoch 20/30\n",
      "80/80 [==============================] - 3s 42ms/step - loss: 0.2619 - binary_accuracy: 0.8945 - val_loss: 0.3449 - val_binary_accuracy: 0.8584\n",
      "Epoch 21/30\n",
      "80/80 [==============================] - 3s 42ms/step - loss: 0.2585 - binary_accuracy: 0.8972 - val_loss: 0.3442 - val_binary_accuracy: 0.8580\n",
      "Epoch 22/30\n",
      "80/80 [==============================] - 3s 42ms/step - loss: 0.2547 - binary_accuracy: 0.8978 - val_loss: 0.3438 - val_binary_accuracy: 0.8586\n",
      "Epoch 23/30\n",
      "80/80 [==============================] - 3s 42ms/step - loss: 0.2499 - binary_accuracy: 0.9019 - val_loss: 0.3418 - val_binary_accuracy: 0.8606\n",
      "Epoch 24/30\n",
      "80/80 [==============================] - 3s 42ms/step - loss: 0.2460 - binary_accuracy: 0.9042 - val_loss: 0.3446 - val_binary_accuracy: 0.8590\n",
      "Epoch 25/30\n",
      "80/80 [==============================] - 3s 42ms/step - loss: 0.2436 - binary_accuracy: 0.9040 - val_loss: 0.3435 - val_binary_accuracy: 0.8600\n",
      "Epoch 26/30\n",
      "80/80 [==============================] - 3s 42ms/step - loss: 0.2392 - binary_accuracy: 0.9089 - val_loss: 0.3427 - val_binary_accuracy: 0.8604\n",
      "Epoch 27/30\n",
      "80/80 [==============================] - 3s 42ms/step - loss: 0.2370 - binary_accuracy: 0.9081 - val_loss: 0.3453 - val_binary_accuracy: 0.8596\n",
      "Epoch 28/30\n",
      "80/80 [==============================] - 3s 42ms/step - loss: 0.2344 - binary_accuracy: 0.9109 - val_loss: 0.3524 - val_binary_accuracy: 0.8547\n",
      "Epoch 29/30\n",
      "80/80 [==============================] - 3s 42ms/step - loss: 0.2321 - binary_accuracy: 0.9123 - val_loss: 0.3544 - val_binary_accuracy: 0.8547\n",
      "Epoch 30/30\n",
      "80/80 [==============================] - 3s 42ms/step - loss: 0.2284 - binary_accuracy: 0.9148 - val_loss: 0.3554 - val_binary_accuracy: 0.8543\n"
     ]
    }
   ],
   "source": [
    "history = model.fit(\n",
    "    ds_train,\n",
    "    validation_data=ds_valid,\n",
    "    epochs=30,\n",
    ")"
   ]
  },
  {
   "cell_type": "markdown",
   "id": "8c682879",
   "metadata": {
    "papermill": {
     "duration": 0.074464,
     "end_time": "2023-10-25T08:37:10.457599",
     "exception": false,
     "start_time": "2023-10-25T08:37:10.383135",
     "status": "completed"
    },
    "tags": []
   },
   "source": [
    "Run the cell below to plot the loss and metric curves for this training run."
   ]
  },
  {
   "cell_type": "code",
   "execution_count": 10,
   "id": "045bcfa5",
   "metadata": {
    "execution": {
     "iopub.execute_input": "2023-10-25T08:37:10.609632Z",
     "iopub.status.busy": "2023-10-25T08:37:10.609277Z",
     "iopub.status.idle": "2023-10-25T08:37:11.533747Z",
     "shell.execute_reply": "2023-10-25T08:37:11.532855Z"
    },
    "papermill": {
     "duration": 1.00287,
     "end_time": "2023-10-25T08:37:11.535956",
     "exception": false,
     "start_time": "2023-10-25T08:37:10.533086",
     "status": "completed"
    },
    "tags": []
   },
   "outputs": [
    {
     "data": {
      "image/png": "[encoded data removed]",
      "text/plain": [
       "<Figure size 640x480 with 1 Axes>"
      ]
     },
     "metadata": {},
     "output_type": "display_data"
    },
    {
     "data": {
      "image/png": "[encoded data removed]",
      "text/plain": [
       "<Figure size 640x480 with 1 Axes>"
      ]
     },
     "metadata": {},
     "output_type": "display_data"
    }
   ],
   "source": [
    "import pandas as pd\n",
    "history_frame = pd.DataFrame(history.history)\n",
    "history_frame.loc[:, ['loss', 'val_loss']].plot()\n",
    "history_frame.loc[:, ['binary_accuracy', 'val_binary_accuracy']].plot();"
   ]
  },
  {
   "cell_type": "markdown",
   "id": "9633c375",
   "metadata": {
    "papermill": {
     "duration": 0.07583,
     "end_time": "2023-10-25T08:37:11.689091",
     "exception": false,
     "start_time": "2023-10-25T08:37:11.613261",
     "status": "completed"
    },
    "tags": []
   },
   "source": [
    "# 4) Examine Loss and Accuracy #\n",
    "\n",
    "Do you notice a difference between these learning curves and the curves for VGG16 from the tutorial? What does this difference tell you about what this model (InceptionV2) learned compared to VGG16? Are there ways in which one is better than the other? Worse?\n",
    "\n",
    "After you've thought about it, run the cell below to see the answer."
   ]
  },
  {
   "cell_type": "code",
   "execution_count": 11,
   "id": "80cd206c",
   "metadata": {
    "execution": {
     "iopub.execute_input": "2023-10-25T08:37:11.847127Z",
     "iopub.status.busy": "2023-10-25T08:37:11.846749Z",
     "iopub.status.idle": "2023-10-25T08:37:11.854586Z",
     "shell.execute_reply": "2023-10-25T08:37:11.853733Z"
    },
    "papermill": {
     "duration": 0.089765,
     "end_time": "2023-10-25T08:37:11.856621",
     "exception": false,
     "start_time": "2023-10-25T08:37:11.766856",
     "status": "completed"
    },
    "tags": []
   },
   "outputs": [
    {
     "data": {
      "application/javascript": [
       "parent.postMessage({\"jupyterEvent\": \"custom.exercise_interaction\", \"data\": {\"outcomeType\": 1, \"valueTowardsCompletion\": 0.25, \"interactionType\": 1, \"questionType\": 4, \"questionId\": \"4_Q4\", \"learnToolsVersion\": \"0.3.4\", \"failureMessage\": \"\", \"exceptionClass\": \"\", \"trace\": \"\"}}, \"*\")"
      ],
      "text/plain": [
       "<IPython.core.display.Javascript object>"
      ]
     },
     "metadata": {},
     "output_type": "display_data"
    },
    {
     "data": {
      "text/markdown": [
       "<span style=\"color:#33cc33\">Correct:</span> \n",
       "\n",
       "That the training loss and validation loss stay fairly close is evidence that the model isn't just memorizing the training data, but rather learning general properties of the two classes. But, because this model converges at a loss greater than the VGG16 model, it's likely that it is underfitting some, and could benefit from some extra capacity.\n"
      ],
      "text/plain": [
       "Correct: \n",
       "\n",
       "That the training loss and validation loss stay fairly close is evidence that the model isn't just memorizing the training data, but rather learning general properties of the two classes. But, because this model converges at a loss greater than the VGG16 model, it's likely that it is underfitting some, and could benefit from some extra capacity."
      ]
     },
     "metadata": {},
     "output_type": "display_data"
    }
   ],
   "source": [
    "# View the solution (Run this code cell to receive credit!)\n",
    "q_4.check()"
   ]
  },
  {
   "cell_type": "markdown",
   "id": "5cb7e08f",
   "metadata": {
    "papermill": {
     "duration": 0.07602,
     "end_time": "2023-10-25T08:37:12.009063",
     "exception": false,
     "start_time": "2023-10-25T08:37:11.933043",
     "status": "completed"
    },
    "tags": []
   },
   "source": [
    "# Conclusion #\n",
    "\n",
    "In this first lesson, you learned the basics of **convolutional image classifiers**, that they consist of a **base** for extracting features from images, and a **head** which uses the features to decide the image's class. You also saw how to build a classifier with **transfer learning** on pretrained base. "
   ]
  },
  {
   "cell_type": "markdown",
   "id": "b9420ecc",
   "metadata": {
    "papermill": {
     "duration": 0.075685,
     "end_time": "2023-10-25T08:37:12.162518",
     "exception": false,
     "start_time": "2023-10-25T08:37:12.086833",
     "status": "completed"
    },
    "tags": []
   },
   "source": [
    "# Keep Going #\n",
    "\n",
    "Move on to [**Lesson 2**](https://www.kaggle.com/ryanholbrook/convolution-and-relu) for a detailed look at how the base does this feature extraction. (It's really cool!)"
   ]
  },
  {
   "cell_type": "markdown",
   "id": "5cc5d9a9",
   "metadata": {
    "papermill": {
     "duration": 0.077497,
     "end_time": "2023-10-25T08:37:12.316657",
     "exception": false,
     "start_time": "2023-10-25T08:37:12.239160",
     "status": "completed"
    },
    "tags": []
   },
   "source": [
    "---\n",
    "\n",
    "\n",
    "\n",
    "\n",
    "*Have questions or comments? Visit the [course discussion forum](https://www.kaggle.com/learn/computer-vision/discussion) to chat with other learners.*"
   ]
  }
 ],
 "metadata": {
  "kernelspec": {
   "display_name": "Python 3",
   "language": "python",
   "name": "python3"
  },
  "language_info": {
   "codemirror_mode": {
    "name": "ipython",
    "version": 3
   },
   "file_extension": ".py",
   "mimetype": "text/x-python",
   "name": "python",
   "nbconvert_exporter": "python",
   "pygments_lexer": "ipython3",
   "version": "3.10.12"
  },
  "papermill": {
   "default_parameters": {},
   "duration": 156.573542,
   "end_time": "2023-10-25T08:37:15.393941",
   "environment_variables": {},
   "exception": null,
   "input_path": "__notebook__.ipynb",
   "output_path": "__notebook__.ipynb",
   "parameters": {},
   "start_time": "2023-10-25T08:34:38.820399",
   "version": "2.4.0"
  }
 },
 "nbformat": 4,
 "nbformat_minor": 5
}
