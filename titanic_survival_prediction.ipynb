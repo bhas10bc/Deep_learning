{
  "nbformat": 4,
  "nbformat_minor": 0,
  "metadata": {
    "colab": {
      "provenance": [],
      "authorship_tag": "ABX9TyNmjNYe6XiqfUGtdcBGUk2Z",
      "include_colab_link": true
    },
    "kernelspec": {
      "name": "python3",
      "display_name": "Python 3"
    },
    "language_info": {
      "name": "python"
    }
  },
  "cells": [
    {
      "cell_type": "markdown",
      "metadata": {
        "id": "view-in-github",
        "colab_type": "text"
      },
      "source": [
        "<a href=\"https://colab.research.google.com/github/bhas10bc/Deep_learning/blob/main/titanic_survival_prediction.ipynb\" target=\"_parent\"><img src=\"https://colab.research.google.com/assets/colab-badge.svg\" alt=\"Open In Colab\"/></a>"
      ]
    },
    {
      "cell_type": "code",
      "execution_count": 146,
      "metadata": {
        "id": "U71ZtKRocsfD"
      },
      "outputs": [],
      "source": [
        "# import the dependencies\n",
        "\n",
        "import numpy as np\n",
        "import pandas as pd\n",
        "import tensorflow as tf\n",
        "from sklearn.model_selection import train_test_split\n",
        "from sklearn.preprocessing import LabelEncoder, StandardScaler"
      ]
    },
    {
      "cell_type": "code",
      "source": [
        "# load the datasets\n",
        "\n",
        "train_data = pd.read_csv(\"train.csv\")\n",
        "test_data = pd.read_csv(\"test.csv\")"
      ],
      "metadata": {
        "id": "NnGNsqqvd5wa"
      },
      "execution_count": 147,
      "outputs": []
    },
    {
      "cell_type": "code",
      "source": [
        "# Preprocessing the data\n",
        "def preprocess_data(data):\n",
        "  #Drop irrelevant column\n",
        "  data = data.drop(['Name','Ticket','Cabin'], axis=1)\n",
        "\n",
        "  # Fill missing values\n",
        "  data['Age'].fillna(data['Age'].mean(), inplace=True)\n",
        "  data['Fare'].fillna(data['Fare'].mean(), inplace=True)\n",
        "  data['Embarked'].fillna(data['Embarked'].mode()[0], inplace=True)\n",
        "\n",
        "  # convert categorical data to numerical\n",
        "  data['Sex'] = LabelEncoder().fit_transform(data['Sex'])\n",
        "  data['Embarked'] =  LabelEncoder().fit_transform(data['Embarked'])\n",
        "\n",
        "  return data"
      ],
      "metadata": {
        "id": "RHL4q4zDeKzO"
      },
      "execution_count": 148,
      "outputs": []
    },
    {
      "cell_type": "code",
      "source": [
        "train_data = preprocess_data(train_data)\n",
        "test_data = preprocess_data(test_data)"
      ],
      "metadata": {
        "id": "D_f0skJLjOTx"
      },
      "execution_count": 149,
      "outputs": []
    },
    {
      "cell_type": "code",
      "source": [
        "X = train_data.drop('Survived', axis =1)\n",
        "y = train_data['Survived']"
      ],
      "metadata": {
        "id": "JbVXmLsRjuO-"
      },
      "execution_count": 150,
      "outputs": []
    },
    {
      "cell_type": "code",
      "source": [
        "X_train, X_val, y_train, y_val = train_test_split(X,y, test_size=0.2, random_state=42)"
      ],
      "metadata": {
        "id": "zRc_KxNCj97Z"
      },
      "execution_count": 151,
      "outputs": []
    },
    {
      "cell_type": "code",
      "source": [
        "X_train.shape"
      ],
      "metadata": {
        "colab": {
          "base_uri": "https://localhost:8080/"
        },
        "id": "ASKnZULblm8N",
        "outputId": "9773d547-b1a6-4dda-9d5f-da8a0b7d83ee"
      },
      "execution_count": 152,
      "outputs": [
        {
          "output_type": "execute_result",
          "data": {
            "text/plain": [
              "(712, 8)"
            ]
          },
          "metadata": {},
          "execution_count": 152
        }
      ]
    },
    {
      "cell_type": "code",
      "source": [
        "# Feature scaling\n",
        "scaler = StandardScaler()\n",
        "X_train = scaler.fit_transform(X_train)\n",
        "X_val = scaler.transform(X_val)"
      ],
      "metadata": {
        "id": "QuKNSfjMkRIt"
      },
      "execution_count": 153,
      "outputs": []
    },
    {
      "cell_type": "code",
      "source": [
        "model = tf.keras.Sequential([\n",
        "    tf.keras.layers.Input(shape=(8,)),\n",
        "    tf.keras.layers.Dense(64, activation='relu'),\n",
        "\n",
        "    tf.keras.layers.Dense(32, activation='relu'),\n",
        "\n",
        "    tf.keras.layers.Dense(1, activation = 'sigmoid')\n",
        "])"
      ],
      "metadata": {
        "id": "lSnaZBrmlYFM"
      },
      "execution_count": 154,
      "outputs": []
    },
    {
      "cell_type": "code",
      "source": [
        "#compile the mopdel\n",
        "model.compile(optimizer='adam',\n",
        "              loss = 'binary_crossentropy',\n",
        "              metrics = ['accuracy'])"
      ],
      "metadata": {
        "id": "pZohMuCBmEYq"
      },
      "execution_count": 155,
      "outputs": []
    },
    {
      "cell_type": "code",
      "source": [
        "history = model.fit(X_train, y_train, validation_data=(X_val, y_val), epochs = 100, batch_size=32)"
      ],
      "metadata": {
        "colab": {
          "base_uri": "https://localhost:8080/"
        },
        "id": "-Bhd1PuumXMI",
        "outputId": "3562e6bc-0023-4577-c631-3050fa4b2100"
      },
      "execution_count": 156,
      "outputs": [
        {
          "output_type": "stream",
          "name": "stdout",
          "text": [
            "Epoch 1/100\n",
            "23/23 [==============================] - 1s 10ms/step - loss: 0.6225 - accuracy: 0.7247 - val_loss: 0.5623 - val_accuracy: 0.8268\n",
            "Epoch 2/100\n",
            "23/23 [==============================] - 0s 4ms/step - loss: 0.5259 - accuracy: 0.8034 - val_loss: 0.4773 - val_accuracy: 0.8101\n",
            "Epoch 3/100\n",
            "23/23 [==============================] - 0s 4ms/step - loss: 0.4624 - accuracy: 0.8090 - val_loss: 0.4324 - val_accuracy: 0.7989\n",
            "Epoch 4/100\n",
            "23/23 [==============================] - 0s 3ms/step - loss: 0.4342 - accuracy: 0.8090 - val_loss: 0.4162 - val_accuracy: 0.7989\n",
            "Epoch 5/100\n",
            "23/23 [==============================] - 0s 4ms/step - loss: 0.4225 - accuracy: 0.8118 - val_loss: 0.4104 - val_accuracy: 0.8101\n",
            "Epoch 6/100\n",
            "23/23 [==============================] - 0s 4ms/step - loss: 0.4156 - accuracy: 0.8216 - val_loss: 0.4054 - val_accuracy: 0.8101\n",
            "Epoch 7/100\n",
            "23/23 [==============================] - 0s 3ms/step - loss: 0.4094 - accuracy: 0.8188 - val_loss: 0.4038 - val_accuracy: 0.8101\n",
            "Epoch 8/100\n",
            "23/23 [==============================] - 0s 4ms/step - loss: 0.4029 - accuracy: 0.8315 - val_loss: 0.4072 - val_accuracy: 0.8101\n",
            "Epoch 9/100\n",
            "23/23 [==============================] - 0s 3ms/step - loss: 0.3983 - accuracy: 0.8329 - val_loss: 0.4055 - val_accuracy: 0.8156\n",
            "Epoch 10/100\n",
            "23/23 [==============================] - 0s 4ms/step - loss: 0.3955 - accuracy: 0.8371 - val_loss: 0.4075 - val_accuracy: 0.8212\n",
            "Epoch 11/100\n",
            "23/23 [==============================] - 0s 3ms/step - loss: 0.3927 - accuracy: 0.8315 - val_loss: 0.4056 - val_accuracy: 0.8156\n",
            "Epoch 12/100\n",
            "23/23 [==============================] - 0s 3ms/step - loss: 0.3884 - accuracy: 0.8371 - val_loss: 0.4107 - val_accuracy: 0.8156\n",
            "Epoch 13/100\n",
            "23/23 [==============================] - 0s 4ms/step - loss: 0.3875 - accuracy: 0.8357 - val_loss: 0.4105 - val_accuracy: 0.8156\n",
            "Epoch 14/100\n",
            "23/23 [==============================] - 0s 4ms/step - loss: 0.3840 - accuracy: 0.8441 - val_loss: 0.4133 - val_accuracy: 0.8212\n",
            "Epoch 15/100\n",
            "23/23 [==============================] - 0s 5ms/step - loss: 0.3792 - accuracy: 0.8441 - val_loss: 0.4150 - val_accuracy: 0.8268\n",
            "Epoch 16/100\n",
            "23/23 [==============================] - 0s 4ms/step - loss: 0.3790 - accuracy: 0.8455 - val_loss: 0.4134 - val_accuracy: 0.8212\n",
            "Epoch 17/100\n",
            "23/23 [==============================] - 0s 3ms/step - loss: 0.3754 - accuracy: 0.8427 - val_loss: 0.4183 - val_accuracy: 0.8212\n",
            "Epoch 18/100\n",
            "23/23 [==============================] - 0s 4ms/step - loss: 0.3752 - accuracy: 0.8441 - val_loss: 0.4169 - val_accuracy: 0.8212\n",
            "Epoch 19/100\n",
            "23/23 [==============================] - 0s 3ms/step - loss: 0.3735 - accuracy: 0.8469 - val_loss: 0.4174 - val_accuracy: 0.8268\n",
            "Epoch 20/100\n",
            "23/23 [==============================] - 0s 4ms/step - loss: 0.3703 - accuracy: 0.8525 - val_loss: 0.4194 - val_accuracy: 0.8268\n",
            "Epoch 21/100\n",
            "23/23 [==============================] - 0s 4ms/step - loss: 0.3713 - accuracy: 0.8469 - val_loss: 0.4212 - val_accuracy: 0.8324\n",
            "Epoch 22/100\n",
            "23/23 [==============================] - 0s 3ms/step - loss: 0.3691 - accuracy: 0.8469 - val_loss: 0.4246 - val_accuracy: 0.8380\n",
            "Epoch 23/100\n",
            "23/23 [==============================] - 0s 3ms/step - loss: 0.3690 - accuracy: 0.8539 - val_loss: 0.4255 - val_accuracy: 0.8212\n",
            "Epoch 24/100\n",
            "23/23 [==============================] - 0s 3ms/step - loss: 0.3657 - accuracy: 0.8539 - val_loss: 0.4270 - val_accuracy: 0.8268\n",
            "Epoch 25/100\n",
            "23/23 [==============================] - 0s 4ms/step - loss: 0.3643 - accuracy: 0.8539 - val_loss: 0.4251 - val_accuracy: 0.8324\n",
            "Epoch 26/100\n",
            "23/23 [==============================] - 0s 5ms/step - loss: 0.3642 - accuracy: 0.8539 - val_loss: 0.4319 - val_accuracy: 0.8268\n",
            "Epoch 27/100\n",
            "23/23 [==============================] - 0s 3ms/step - loss: 0.3618 - accuracy: 0.8511 - val_loss: 0.4269 - val_accuracy: 0.8324\n",
            "Epoch 28/100\n",
            "23/23 [==============================] - 0s 3ms/step - loss: 0.3600 - accuracy: 0.8539 - val_loss: 0.4274 - val_accuracy: 0.8324\n",
            "Epoch 29/100\n",
            "23/23 [==============================] - 0s 3ms/step - loss: 0.3574 - accuracy: 0.8553 - val_loss: 0.4270 - val_accuracy: 0.8436\n",
            "Epoch 30/100\n",
            "23/23 [==============================] - 0s 4ms/step - loss: 0.3574 - accuracy: 0.8553 - val_loss: 0.4306 - val_accuracy: 0.8324\n",
            "Epoch 31/100\n",
            "23/23 [==============================] - 0s 4ms/step - loss: 0.3561 - accuracy: 0.8539 - val_loss: 0.4303 - val_accuracy: 0.8268\n",
            "Epoch 32/100\n",
            "23/23 [==============================] - 0s 4ms/step - loss: 0.3544 - accuracy: 0.8567 - val_loss: 0.4300 - val_accuracy: 0.8268\n",
            "Epoch 33/100\n",
            "23/23 [==============================] - 0s 3ms/step - loss: 0.3540 - accuracy: 0.8567 - val_loss: 0.4358 - val_accuracy: 0.8324\n",
            "Epoch 34/100\n",
            "23/23 [==============================] - 0s 4ms/step - loss: 0.3512 - accuracy: 0.8567 - val_loss: 0.4358 - val_accuracy: 0.8324\n",
            "Epoch 35/100\n",
            "23/23 [==============================] - 0s 4ms/step - loss: 0.3509 - accuracy: 0.8567 - val_loss: 0.4340 - val_accuracy: 0.8324\n",
            "Epoch 36/100\n",
            "23/23 [==============================] - 0s 4ms/step - loss: 0.3512 - accuracy: 0.8553 - val_loss: 0.4357 - val_accuracy: 0.8380\n",
            "Epoch 37/100\n",
            "23/23 [==============================] - 0s 4ms/step - loss: 0.3517 - accuracy: 0.8511 - val_loss: 0.4360 - val_accuracy: 0.8436\n",
            "Epoch 38/100\n",
            "23/23 [==============================] - 0s 4ms/step - loss: 0.3498 - accuracy: 0.8567 - val_loss: 0.4296 - val_accuracy: 0.8380\n",
            "Epoch 39/100\n",
            "23/23 [==============================] - 0s 4ms/step - loss: 0.3478 - accuracy: 0.8553 - val_loss: 0.4330 - val_accuracy: 0.8324\n",
            "Epoch 40/100\n",
            "23/23 [==============================] - 0s 4ms/step - loss: 0.3467 - accuracy: 0.8525 - val_loss: 0.4349 - val_accuracy: 0.8436\n",
            "Epoch 41/100\n",
            "23/23 [==============================] - 0s 4ms/step - loss: 0.3455 - accuracy: 0.8553 - val_loss: 0.4310 - val_accuracy: 0.8324\n",
            "Epoch 42/100\n",
            "23/23 [==============================] - 0s 4ms/step - loss: 0.3464 - accuracy: 0.8469 - val_loss: 0.4314 - val_accuracy: 0.8324\n",
            "Epoch 43/100\n",
            "23/23 [==============================] - 0s 4ms/step - loss: 0.3437 - accuracy: 0.8581 - val_loss: 0.4388 - val_accuracy: 0.8380\n",
            "Epoch 44/100\n",
            "23/23 [==============================] - 0s 4ms/step - loss: 0.3441 - accuracy: 0.8539 - val_loss: 0.4345 - val_accuracy: 0.8324\n",
            "Epoch 45/100\n",
            "23/23 [==============================] - 0s 4ms/step - loss: 0.3410 - accuracy: 0.8581 - val_loss: 0.4363 - val_accuracy: 0.8380\n",
            "Epoch 46/100\n",
            "23/23 [==============================] - 0s 4ms/step - loss: 0.3391 - accuracy: 0.8539 - val_loss: 0.4435 - val_accuracy: 0.8380\n",
            "Epoch 47/100\n",
            "23/23 [==============================] - 0s 4ms/step - loss: 0.3374 - accuracy: 0.8553 - val_loss: 0.4370 - val_accuracy: 0.8324\n",
            "Epoch 48/100\n",
            "23/23 [==============================] - 0s 3ms/step - loss: 0.3396 - accuracy: 0.8596 - val_loss: 0.4444 - val_accuracy: 0.8436\n",
            "Epoch 49/100\n",
            "23/23 [==============================] - 0s 4ms/step - loss: 0.3352 - accuracy: 0.8539 - val_loss: 0.4393 - val_accuracy: 0.8380\n",
            "Epoch 50/100\n",
            "23/23 [==============================] - 0s 4ms/step - loss: 0.3345 - accuracy: 0.8581 - val_loss: 0.4370 - val_accuracy: 0.8380\n",
            "Epoch 51/100\n",
            "23/23 [==============================] - 0s 4ms/step - loss: 0.3339 - accuracy: 0.8624 - val_loss: 0.4364 - val_accuracy: 0.8380\n",
            "Epoch 52/100\n",
            "23/23 [==============================] - 0s 4ms/step - loss: 0.3338 - accuracy: 0.8511 - val_loss: 0.4421 - val_accuracy: 0.8380\n",
            "Epoch 53/100\n",
            "23/23 [==============================] - 0s 4ms/step - loss: 0.3340 - accuracy: 0.8567 - val_loss: 0.4395 - val_accuracy: 0.8380\n",
            "Epoch 54/100\n",
            "23/23 [==============================] - 0s 3ms/step - loss: 0.3331 - accuracy: 0.8581 - val_loss: 0.4344 - val_accuracy: 0.8380\n",
            "Epoch 55/100\n",
            "23/23 [==============================] - 0s 4ms/step - loss: 0.3290 - accuracy: 0.8624 - val_loss: 0.4410 - val_accuracy: 0.8436\n",
            "Epoch 56/100\n",
            "23/23 [==============================] - 0s 3ms/step - loss: 0.3303 - accuracy: 0.8581 - val_loss: 0.4468 - val_accuracy: 0.8380\n",
            "Epoch 57/100\n",
            "23/23 [==============================] - 0s 3ms/step - loss: 0.3297 - accuracy: 0.8553 - val_loss: 0.4443 - val_accuracy: 0.8324\n",
            "Epoch 58/100\n",
            "23/23 [==============================] - 0s 4ms/step - loss: 0.3272 - accuracy: 0.8610 - val_loss: 0.4390 - val_accuracy: 0.8380\n",
            "Epoch 59/100\n",
            "23/23 [==============================] - 0s 4ms/step - loss: 0.3265 - accuracy: 0.8567 - val_loss: 0.4409 - val_accuracy: 0.8436\n",
            "Epoch 60/100\n",
            "23/23 [==============================] - 0s 4ms/step - loss: 0.3264 - accuracy: 0.8596 - val_loss: 0.4432 - val_accuracy: 0.8324\n",
            "Epoch 61/100\n",
            "23/23 [==============================] - 0s 4ms/step - loss: 0.3249 - accuracy: 0.8610 - val_loss: 0.4436 - val_accuracy: 0.8380\n",
            "Epoch 62/100\n",
            "23/23 [==============================] - 0s 4ms/step - loss: 0.3239 - accuracy: 0.8596 - val_loss: 0.4446 - val_accuracy: 0.8324\n",
            "Epoch 63/100\n",
            "23/23 [==============================] - 0s 4ms/step - loss: 0.3301 - accuracy: 0.8553 - val_loss: 0.4427 - val_accuracy: 0.8324\n",
            "Epoch 64/100\n",
            "23/23 [==============================] - 0s 3ms/step - loss: 0.3219 - accuracy: 0.8624 - val_loss: 0.4482 - val_accuracy: 0.8324\n",
            "Epoch 65/100\n",
            "23/23 [==============================] - 0s 4ms/step - loss: 0.3201 - accuracy: 0.8553 - val_loss: 0.4498 - val_accuracy: 0.8380\n",
            "Epoch 66/100\n",
            "23/23 [==============================] - 0s 4ms/step - loss: 0.3181 - accuracy: 0.8638 - val_loss: 0.4491 - val_accuracy: 0.8212\n",
            "Epoch 67/100\n",
            "23/23 [==============================] - 0s 4ms/step - loss: 0.3174 - accuracy: 0.8652 - val_loss: 0.4507 - val_accuracy: 0.8268\n",
            "Epoch 68/100\n",
            "23/23 [==============================] - 0s 4ms/step - loss: 0.3179 - accuracy: 0.8596 - val_loss: 0.4548 - val_accuracy: 0.8380\n",
            "Epoch 69/100\n",
            "23/23 [==============================] - 0s 4ms/step - loss: 0.3190 - accuracy: 0.8624 - val_loss: 0.4541 - val_accuracy: 0.8268\n",
            "Epoch 70/100\n",
            "23/23 [==============================] - 0s 4ms/step - loss: 0.3179 - accuracy: 0.8652 - val_loss: 0.4504 - val_accuracy: 0.8268\n",
            "Epoch 71/100\n",
            "23/23 [==============================] - 0s 4ms/step - loss: 0.3150 - accuracy: 0.8666 - val_loss: 0.4497 - val_accuracy: 0.8268\n",
            "Epoch 72/100\n",
            "23/23 [==============================] - 0s 4ms/step - loss: 0.3139 - accuracy: 0.8652 - val_loss: 0.4596 - val_accuracy: 0.8324\n",
            "Epoch 73/100\n",
            "23/23 [==============================] - 0s 4ms/step - loss: 0.3146 - accuracy: 0.8652 - val_loss: 0.4520 - val_accuracy: 0.8380\n",
            "Epoch 74/100\n",
            "23/23 [==============================] - 0s 4ms/step - loss: 0.3123 - accuracy: 0.8736 - val_loss: 0.4517 - val_accuracy: 0.8380\n",
            "Epoch 75/100\n",
            "23/23 [==============================] - 0s 4ms/step - loss: 0.3112 - accuracy: 0.8680 - val_loss: 0.4508 - val_accuracy: 0.8324\n",
            "Epoch 76/100\n",
            "23/23 [==============================] - 0s 3ms/step - loss: 0.3095 - accuracy: 0.8652 - val_loss: 0.4559 - val_accuracy: 0.8268\n",
            "Epoch 77/100\n",
            "23/23 [==============================] - 0s 3ms/step - loss: 0.3116 - accuracy: 0.8680 - val_loss: 0.4562 - val_accuracy: 0.8380\n",
            "Epoch 78/100\n",
            "23/23 [==============================] - 0s 4ms/step - loss: 0.3098 - accuracy: 0.8708 - val_loss: 0.4586 - val_accuracy: 0.8324\n",
            "Epoch 79/100\n",
            "23/23 [==============================] - 0s 4ms/step - loss: 0.3109 - accuracy: 0.8708 - val_loss: 0.4537 - val_accuracy: 0.8380\n",
            "Epoch 80/100\n",
            "23/23 [==============================] - 0s 3ms/step - loss: 0.3062 - accuracy: 0.8708 - val_loss: 0.4569 - val_accuracy: 0.8268\n",
            "Epoch 81/100\n",
            "23/23 [==============================] - 0s 4ms/step - loss: 0.3055 - accuracy: 0.8750 - val_loss: 0.4572 - val_accuracy: 0.8324\n",
            "Epoch 82/100\n",
            "23/23 [==============================] - 0s 4ms/step - loss: 0.3049 - accuracy: 0.8736 - val_loss: 0.4603 - val_accuracy: 0.8380\n",
            "Epoch 83/100\n",
            "23/23 [==============================] - 0s 3ms/step - loss: 0.3043 - accuracy: 0.8778 - val_loss: 0.4622 - val_accuracy: 0.8324\n",
            "Epoch 84/100\n",
            "23/23 [==============================] - 0s 3ms/step - loss: 0.3026 - accuracy: 0.8722 - val_loss: 0.4616 - val_accuracy: 0.8380\n",
            "Epoch 85/100\n",
            "23/23 [==============================] - 0s 4ms/step - loss: 0.3034 - accuracy: 0.8750 - val_loss: 0.4553 - val_accuracy: 0.8380\n",
            "Epoch 86/100\n",
            "23/23 [==============================] - 0s 4ms/step - loss: 0.3033 - accuracy: 0.8778 - val_loss: 0.4586 - val_accuracy: 0.8324\n",
            "Epoch 87/100\n",
            "23/23 [==============================] - 0s 5ms/step - loss: 0.3000 - accuracy: 0.8806 - val_loss: 0.4644 - val_accuracy: 0.8436\n",
            "Epoch 88/100\n",
            "23/23 [==============================] - 0s 4ms/step - loss: 0.3046 - accuracy: 0.8708 - val_loss: 0.4695 - val_accuracy: 0.8324\n",
            "Epoch 89/100\n",
            "23/23 [==============================] - 0s 3ms/step - loss: 0.2971 - accuracy: 0.8694 - val_loss: 0.4574 - val_accuracy: 0.8380\n",
            "Epoch 90/100\n",
            "23/23 [==============================] - 0s 5ms/step - loss: 0.2978 - accuracy: 0.8764 - val_loss: 0.4720 - val_accuracy: 0.8324\n",
            "Epoch 91/100\n",
            "23/23 [==============================] - 0s 4ms/step - loss: 0.2941 - accuracy: 0.8806 - val_loss: 0.4666 - val_accuracy: 0.8324\n",
            "Epoch 92/100\n",
            "23/23 [==============================] - 0s 4ms/step - loss: 0.2962 - accuracy: 0.8750 - val_loss: 0.4746 - val_accuracy: 0.8268\n",
            "Epoch 93/100\n",
            "23/23 [==============================] - 0s 4ms/step - loss: 0.2926 - accuracy: 0.8848 - val_loss: 0.4670 - val_accuracy: 0.8324\n",
            "Epoch 94/100\n",
            "23/23 [==============================] - 0s 6ms/step - loss: 0.2934 - accuracy: 0.8764 - val_loss: 0.4741 - val_accuracy: 0.8268\n",
            "Epoch 95/100\n",
            "23/23 [==============================] - 0s 5ms/step - loss: 0.2936 - accuracy: 0.8820 - val_loss: 0.4700 - val_accuracy: 0.8268\n",
            "Epoch 96/100\n",
            "23/23 [==============================] - 0s 5ms/step - loss: 0.2897 - accuracy: 0.8820 - val_loss: 0.4684 - val_accuracy: 0.8436\n",
            "Epoch 97/100\n",
            "23/23 [==============================] - 0s 5ms/step - loss: 0.2921 - accuracy: 0.8834 - val_loss: 0.4695 - val_accuracy: 0.8268\n",
            "Epoch 98/100\n",
            "23/23 [==============================] - 0s 5ms/step - loss: 0.2891 - accuracy: 0.8848 - val_loss: 0.4721 - val_accuracy: 0.8268\n",
            "Epoch 99/100\n",
            "23/23 [==============================] - 0s 6ms/step - loss: 0.2905 - accuracy: 0.8806 - val_loss: 0.4707 - val_accuracy: 0.8268\n",
            "Epoch 100/100\n",
            "23/23 [==============================] - 0s 5ms/step - loss: 0.2868 - accuracy: 0.8848 - val_loss: 0.4708 - val_accuracy: 0.8268\n"
          ]
        }
      ]
    },
    {
      "cell_type": "code",
      "source": [
        "\n",
        "X_test = test_data\n",
        "X_test = scaler.transform(X_test)\n",
        "test_predictions = model.predict(X_test)"
      ],
      "metadata": {
        "colab": {
          "base_uri": "https://localhost:8080/"
        },
        "id": "PayhYCZRmvGK",
        "outputId": "2e8307e5-e7db-488a-9586-e474b2fe5968"
      },
      "execution_count": 157,
      "outputs": [
        {
          "output_type": "stream",
          "name": "stdout",
          "text": [
            "14/14 [==============================] - 0s 2ms/step\n"
          ]
        }
      ]
    },
    {
      "cell_type": "code",
      "source": [
        "test_predictions = (test_predictions > 0.5).astype(int)"
      ],
      "metadata": {
        "id": "wXiYzxjlnhSz"
      },
      "execution_count": 158,
      "outputs": []
    },
    {
      "cell_type": "code",
      "source": [
        "from sklearn.metrics import roc_auc_score\n",
        "\n",
        "# Assuming you have your model and test data prepared as previously mentioned\n",
        "y_pred_test = model.predict(X_test)  # Use predictions on the test set\n",
        "\n",
        "# Define y_test with the actual target values for the test set\n",
        "y_test = pd.read_csv(\"gender_submission.csv\")[\"Survived\"]  # Load the actual test values from your submission file\n",
        "\n",
        "# Calculate the ROC AUC score for the test data\n",
        "roc_auc = roc_auc_score(y_test, y_pred_test)\n",
        "\n",
        "print(f\"ROC AUC Score on Test Data: {roc_auc}\")\n"
      ],
      "metadata": {
        "colab": {
          "base_uri": "https://localhost:8080/"
        },
        "id": "duXs0RU9s1WQ",
        "outputId": "54c830de-0eff-46cd-a0cd-514599f9fd1d"
      },
      "execution_count": 159,
      "outputs": [
        {
          "output_type": "stream",
          "name": "stdout",
          "text": [
            "14/14 [==============================] - 0s 2ms/step\n",
            "ROC AUC Score on Test Data: 0.9028739612188365\n"
          ]
        }
      ]
    },
    {
      "cell_type": "code",
      "source": [
        "submission = pd.DataFrame({'PassengerId': test_data['PassengerId'], 'Survived': test_predictions.ravel()})"
      ],
      "metadata": {
        "id": "MqyNcA7UoX0D"
      },
      "execution_count": 160,
      "outputs": []
    },
    {
      "cell_type": "code",
      "source": [
        "# Save the submission as a CSV file\n",
        "submission.to_csv('titanic_submission.csv', index=False)"
      ],
      "metadata": {
        "id": "ttWOYPu1px-H"
      },
      "execution_count": 162,
      "outputs": []
    },
    {
      "cell_type": "code",
      "source": [],
      "metadata": {
        "id": "k_wrUim5qRUe"
      },
      "execution_count": 161,
      "outputs": []
    }
  ]
}